{
 "cells": [
  {
   "cell_type": "code",
   "execution_count": 51,
   "metadata": {},
   "outputs": [
    {
     "name": "stderr",
     "output_type": "stream",
     "text": [
      "C:\\Users\\sapl_intern\\AppData\\Local\\Temp\\ipykernel_56280\\3115094438.py:14: DeprecationWarning: executable_path has been deprecated, please pass in a Service object\n",
      "  driver = webdriver.Chrome(ChromeDriverManager().install())\n"
     ]
    }
   ],
   "source": [
    "import os\n",
    "import selenium\n",
    "from selenium import webdriver\n",
    "from webdriver_manager.chrome import ChromeDriverManager\n",
    "from selenium.webdriver.common.by import By\n",
    "from selenium.webdriver.chrome.options import Options\n",
    "from selenium.webdriver.chrome.service import Service\n",
    "from selenium.webdriver.common.keys import Keys\n",
    "import time\n",
    "\n",
    "options = Options()\n",
    "options.add_argument(\"--start-maximized\")\n",
    "\n",
    "driver = webdriver.Chrome(ChromeDriverManager().install())\n",
    "url = \"https://darkintaqt.com/blog/champ-ids/\"\n",
    "driver.get(url)"
   ]
  },
  {
   "cell_type": "code",
   "execution_count": 52,
   "metadata": {},
   "outputs": [],
   "source": [
    "divClass = driver.find_element(By.CLASS_NAME, \"UqDiiB\")\n",
    "clist = divClass.find_element(By.TAG_NAME, \"ul\")\n",
    "champs = clist.find_elements(By.TAG_NAME, \"li\")\n"
   ]
  },
  {
   "cell_type": "code",
   "execution_count": 53,
   "metadata": {},
   "outputs": [
    {
     "name": "stdout",
     "output_type": "stream",
     "text": [
      "[['Aatrox', '266'], ['Ahri', '103'], ['Akali', '84'], ['Akshan', '166'], ['Alistar', '12'], ['Amumu', '32'], ['Anivia', '34'], ['Annie', '1'], ['Aphelios', '523'], ['Ashe', '22'], ['Aurelion Sol', '136'], ['Azir', '268'], ['Bard', '432'], [\"Bel'Veth\", '200'], ['Blitzcrank', '53'], ['Brand', '63'], ['Braum', '201'], ['Caitlyn', '51'], ['Camille', '164'], ['Cassiopeia', '69'], [\"Cho'Gath\", '31'], ['Corki', '42'], ['Darius', '122'], ['Diana', '131'], ['Draven', '119'], ['Dr. Mundo', '36'], ['Ekko', '245'], ['Elise', '60'], ['Evelynn', '28'], ['Ezreal', '81'], ['Fiddlesticks', '9'], ['Fiora', '114'], ['Fizz', '105'], ['Galio', '3'], ['Gangplank', '41'], ['Garen', '86'], ['Gnar', '150'], ['Gragas', '79'], ['Graves', '104'], ['Gwen', '887'], ['Hecarim', '120'], ['Heimerdinger', '74'], ['Illaoi', '420'], ['Irelia', '39'], ['Ivern', '427'], ['Janna', '40'], ['Jarvan IV', '59'], ['Jax', '24'], ['Jayce', '126'], ['Jhin', '202'], ['Jinx', '222'], [\"Kai'Sa\", '145'], ['Kalista', '429'], ['Karma', '43'], ['Karthus', '30'], ['Kassadin', '38'], ['Katarina', '55'], ['Kayle', '10'], ['Kayn', '141'], ['Kennen', '85'], [\"Kha'Zix\", '121'], ['Kindred', '203'], ['Kled', '240'], [\"Kog'Maw\", '96'], [\"K'Sante\", '897'], ['LeBlanc', '7'], ['Lee Sin', '64'], ['Leona', '89'], ['Lillia', '876'], ['Lissandra', '127'], ['Lucian', '236'], ['Lulu', '117'], ['Lux', '99'], ['Malphite', '54'], ['Malzahar', '90'], ['Maokai', '57'], ['Master Yi', '11'], ['Milio', '902'], ['Miss Fortune', '21'], ['Wukong', '62'], ['Mordekaiser', '82'], ['Morgana', '25'], ['Nami', '267'], ['Nasus', '75'], ['Nautilus', '111'], ['Neeko', '518'], ['Nidalee', '76'], ['Nilah', '895'], ['Nocturne', '56'], ['Nunu & Willump', '20'], ['Olaf', '2'], ['Orianna', '61'], ['Ornn', '516'], ['Pantheon', '80'], ['Poppy', '78'], ['Pyke', '555'], ['Qiyana', '246'], ['Quinn', '133'], ['Rakan', '497'], ['Rammus', '33'], [\"Rek'Sai\", '421'], ['Rell', '526'], ['Renata Glasc', '888'], ['Renekton', '58'], ['Rengar', '107'], ['Riven', '92'], ['Rumble', '68'], ['Ryze', '13'], ['Samira', '360'], ['Sejuani', '113'], ['Senna', '235'], ['Seraphine', '147'], ['Sett', '875'], ['Shaco', '35'], ['Shen', '98'], ['Shyvana', '102'], ['Singed', '27'], ['Sion', '14'], ['Sivir', '15'], ['Skarner', '72'], ['Sona', '37'], ['Soraka', '16'], ['Swain', '50'], ['Sylas', '517'], ['Syndra', '134'], ['Tahm Kench', '223'], ['Taliyah', '163'], ['Talon', '91'], ['Taric', '44'], ['Teemo', '17'], ['Thresh', '412'], ['Tristana', '18'], ['Trundle', '48'], ['Tryndamere', '23'], ['Twisted Fate', '4'], ['Twitch', '29'], ['Udyr', '77'], ['Urgot', '6'], ['Varus', '110'], ['Vayne', '67'], ['Veigar', '45'], [\"Vel'Koz\", '161'], ['Vex', '711'], ['Vi', '254'], ['Viego', '234'], ['Viktor', '112'], ['Vladimir', '8'], ['Volibear', '106'], ['Warwick', '19'], ['Xayah', '498'], ['Xerath', '101'], ['Xin Zhao', '5'], ['Yasuo', '157'], ['Yone', '777'], ['Yorick', '83'], ['Yuumi', '350'], ['Zac', '154'], ['Zed', '238'], ['Zeri', '221'], ['Ziggs', '115'], ['Zilean', '26'], ['Zoe', '142'], ['Zyra', '143']]\n"
     ]
    }
   ],
   "source": [
    "champ_list = []\n",
    "\n",
    "for champ in champs:\n",
    "    name, id = champ.text.split(':')\n",
    "    name = name.split('(')[0].strip()\n",
    "    id = id.strip()\n",
    "    champ_list.append([name, id])\n",
    "\n",
    "print(champ_list)"
   ]
  },
  {
   "cell_type": "code",
   "execution_count": 54,
   "metadata": {},
   "outputs": [],
   "source": [
    "import json"
   ]
  },
  {
   "cell_type": "code",
   "execution_count": 55,
   "metadata": {},
   "outputs": [],
   "source": [
    "champ_dict = {\n",
    "    'champions': [\n",
    "    ]\n",
    "}"
   ]
  },
  {
   "cell_type": "code",
   "execution_count": 57,
   "metadata": {},
   "outputs": [],
   "source": [
    "lane = ['TOP', 'JUNGLE', 'MID', 'BOTTOM', 'SUPPORT']"
   ]
  },
  {
   "cell_type": "code",
   "execution_count": 58,
   "metadata": {},
   "outputs": [],
   "source": [
    "url = \"https://www.op.gg/champions/\"\n",
    "driver.get(url)\n",
    "\n",
    "driver.find_element(By.XPATH, '//*[@id=\"__next\"]/header/div[1]/div[4]/div[2]/div/button').click()\n",
    "driver.find_element(By.XPATH, '//*[@id=\"__next\"]/header/div[1]/div[4]/div[2]/div/div/button[1]').click()"
   ]
  },
  {
   "cell_type": "code",
   "execution_count": 65,
   "metadata": {},
   "outputs": [
    {
     "name": "stdout",
     "output_type": "stream",
     "text": [
      "top\n",
      "jungle\n",
      "mid\n",
      "adc\n",
      "support\n",
      "[['Aatrox', 'Akali', 'Akshan', 'Camille', 'Cassiopeia', \"Cho'Gath\", 'Darius', 'Dr. Mundo', 'Fiora', 'Gangplank', 'Garen', 'Gnar', 'Gragas', 'Gwen', 'Illaoi', 'Irelia', 'Jax', 'Jayce', \"K'Sante\", 'Kayle', 'Kennen', 'Kled', 'Malphite', 'Maokai', 'Mordekaiser', 'Nasus', 'Olaf', 'Ornn', 'Pantheon', 'Poppy', 'Quinn', 'Renekton', 'Rengar', 'Riven', 'Rumble', 'Sejuani', 'Sett', 'Shen', 'Singed', 'Sion', 'Sylas', 'Tahm Kench', 'Teemo', 'Tryndamere', 'Udyr', 'Urgot', 'Vayne', 'Vladimir', 'Volibear', 'Warwick', 'Wukong', 'Yasuo', 'Yone', 'Yorick', 'Zac'], ['Amumu', \"Bel'Veth\", 'Diana', 'Ekko', 'Elise', 'Evelynn', 'Fiddlesticks', 'Gragas', 'Graves', 'Hecarim', 'Ivern', 'Jarvan IV', 'Jax', 'Karthus', 'Kayn', \"Kha'Zix\", 'Kindred', 'Lee Sin', 'Lillia', 'Maokai', 'Master Yi', 'Nidalee', 'Nocturne', 'Nunu & Willump', 'Poppy', 'Rammus', \"Rek'Sai\", 'Rengar', 'Sejuani', 'Shaco', 'Shyvana', 'Skarner', 'Sylas', 'Talon', 'Trundle', 'Udyr', 'Vi', 'Viego', 'Volibear', 'Warwick', 'Wukong', 'Xin Zhao', 'Zac', 'Zed'], ['Ahri', 'Akali', 'Akshan', 'Anivia', 'Annie', 'Aurelion Sol', 'Azir', 'Cassiopeia', \"Cho'Gath\", 'Corki', 'Diana', 'Ekko', 'Fizz', 'Galio', 'Gangplank', 'Garen', 'Gragas', 'Irelia', 'Jayce', \"K'Sante\", 'Kassadin', 'Katarina', 'Kayle', 'Kennen', 'LeBlanc', 'Lissandra', 'Lux', 'Malphite', 'Malzahar', 'Neeko', 'Orianna', 'Pantheon', 'Qiyana', 'Renekton', 'Rumble', 'Ryze', 'Singed', 'Swain', 'Sylas', 'Syndra', 'Taliyah', 'Talon', 'Tristana', 'Twisted Fate', 'Varus', 'Veigar', \"Vel'Koz\", 'Vex', 'Viktor', 'Vladimir', 'Xerath', 'Yasuo', 'Yone', 'Zed', 'Ziggs', 'Zoe'], ['Aphelios', 'Ashe', 'Caitlyn', 'Draven', 'Ezreal', 'Jhin', 'Jinx', \"Kai'Sa\", 'Kalista', 'Karthus', \"Kog'Maw\", 'Lucian', 'Miss Fortune', 'Nilah', 'Samira', 'Seraphine', 'Sivir', 'Tristana', 'Twitch', 'Varus', 'Vayne', 'Veigar', 'Xayah', 'Yasuo', 'Zeri', 'Ziggs'], ['Alistar', 'Amumu', 'Annie', 'Ashe', 'Bard', 'Blitzcrank', 'Brand', 'Braum', 'Fiddlesticks', 'Heimerdinger', 'Janna', 'Karma', 'LeBlanc', 'Leona', 'Lulu', 'Lux', 'Maokai', 'Milio', 'Miss Fortune', 'Morgana', 'Nami', 'Nautilus', 'Pantheon', 'Pyke', 'Rakan', 'Rell', 'Renata Glasc', 'Senna', 'Seraphine', 'Shaco', 'Sona', 'Soraka', 'Swain', 'Tahm Kench', 'Taric', 'Thresh', 'Twitch', \"Vel'Koz\", 'Xerath', 'Yuumi', 'Zac', 'Zilean', 'Zyra']]\n"
     ]
    }
   ],
   "source": [
    "lane_select = driver.find_element(By.ID, \"championHomePositionFilter\")\n",
    "op_lane = ['top', 'jungle', 'mid', 'adc', 'support']\n",
    "pos_list = []\n",
    "\n",
    "for idx, l in enumerate(op_lane):\n",
    "    pos = lane_select.find_element(By.NAME, l).click()\n",
    "    pos_c_list = driver.find_element(By.XPATH, '//*[@id=\"content-container\"]/div[2]/aside/nav/ul')\n",
    "    pos_champs = pos_c_list.find_elements(By.TAG_NAME, 'li')\n",
    "    pos_result = []\n",
    "    print(l)\n",
    "    for pos_champ in pos_champs:\n",
    "       if pos_champ.text != '': pos_result.append(pos_champ.text)\n",
    "    pos_list.append(pos_result)\n",
    "\n",
    "print(pos_list)"
   ]
  },
  {
   "cell_type": "code",
   "execution_count": 68,
   "metadata": {},
   "outputs": [],
   "source": [
    "champ_pos_dict = {\"champions\": []}\n",
    "\n",
    "for c in champ_list:\n",
    "    c_pos = []\n",
    "    for l in range(len(lane)):\n",
    "        if c[0] in pos_list[l]:\n",
    "            c_pos.append(lane[l])\n",
    "    champ_pos_dict['champions'].append({\n",
    "        \"name\": c[0],\n",
    "        \"id\": c[1],\n",
    "        \"lane\": c_pos\n",
    "    })"
   ]
  },
  {
   "cell_type": "code",
   "execution_count": 69,
   "metadata": {},
   "outputs": [],
   "source": [
    "with open(\"./champions.json\", 'w') as outfile:\n",
    "    json.dump(champ_pos_dict, outfile)"
   ]
  }
 ],
 "metadata": {
  "kernelspec": {
   "display_name": "champRecommender",
   "language": "python",
   "name": "python3"
  },
  "language_info": {
   "codemirror_mode": {
    "name": "ipython",
    "version": 3
   },
   "file_extension": ".py",
   "mimetype": "text/x-python",
   "name": "python",
   "nbconvert_exporter": "python",
   "pygments_lexer": "ipython3",
   "version": "3.9.16"
  },
  "orig_nbformat": 4
 },
 "nbformat": 4,
 "nbformat_minor": 2
}
